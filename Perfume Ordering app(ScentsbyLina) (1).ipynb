{
 "cells": [
  {
   "cell_type": "code",
   "execution_count": 17,
   "id": "0ff2afff-e389-4acf-9df2-f478e0af01ed",
   "metadata": {},
   "outputs": [],
   "source": [
    "def display_item():\n",
    "    \"\"\"\n",
    "    Description:  This function when called is to display the product item and prices.\n",
    "    \"\"\"\n",
    "    print(\"Product_list\")\n",
    "    print(\"1. Creed aventus for men - 9000\") \n",
    "    print(\"2. Now Rave perfume for ladies - 20000\") \n",
    "    print(\"3. Sauvage dior unisex perfume - 10000\") \n",
    "    print(\"4. Berries weekend female perfume - 7500\") \n",
    "    print(\"5. Nivea roll on - 2500\")\n",
    "    print(\"6. Victoria's secret Body mist - 5000\") \n",
    "    print(\"7. Storm kids Body spray - 3500\")\n",
    "    print(\"8. Riggs Body-Spray - 4000\")\n",
    "    print(\"9. Exit List\")"
   ]
  },
  {
   "cell_type": "code",
   "execution_count": 18,
   "id": "161b0ef6-c3c5-461b-865e-6ea1d7ab6fb1",
   "metadata": {},
   "outputs": [
    {
     "name": "stdout",
     "output_type": "stream",
     "text": [
      "Product_list\n",
      "1. Creed aventus for men - 9000\n",
      "2. Now Rave perfume for ladies - 20000\n",
      "3. Sauvage dior unisex perfume - 10000\n",
      "4. Berries weekend female perfume - 7500\n",
      "5. Nivea roll on - 2500\n",
      "6. Victoria's secret Body mist - 5000\n",
      "7. Storm kids Body spray - 3500\n",
      "8. Riggs Body-Spray - 4000\n",
      "9. Exit List\n"
     ]
    }
   ],
   "source": [
    "display_item()"
   ]
  },
  {
   "cell_type": "code",
   "execution_count": 19,
   "id": "eb5c2726-7be3-437c-b228-5f7f2e472a45",
   "metadata": {},
   "outputs": [],
   "source": [
    "def get_user_choice():\n",
    "    \n",
    "    \"\"\"\n",
    "    Description: Takes user input to get the number corresponding to the chosen product from the List.\n",
    "                 Ensures the input is a valid choice between 1 and 9.\n",
    "                 \n",
    "                 If the input is not an integer return the error \n",
    "                 'Invalid input. Please enter a valid number.' \n",
    "                 \n",
    "                 If the input is an integer but not between 1 and 9 return the error\n",
    "                 'Invalid choice. Please enter a number between 1 and 9.'\n",
    "    \"\"\"\n",
    "    while True:\n",
    "        try:\n",
    "            choice = int(input(\"Enter your choice (1-9): \"))\n",
    "            if choice in [1, 2, 3, 4, 5, 6, 7, 8]:\n",
    "                return choice\n",
    "            elif choice == 9:\n",
    "                return None\n",
    "            else:\n",
    "                print(\"Invalid choice. Please enter a number between 1 and 9.\")\n",
    "        except ValueError:\n",
    "            print(\"Invalid input. Please enter a valid number.\")"
   ]
  },
  {
   "cell_type": "code",
   "execution_count": 20,
   "id": "03088f0b-acc9-4a54-924a-3e46f85d26b7",
   "metadata": {},
   "outputs": [
    {
     "name": "stdin",
     "output_type": "stream",
     "text": [
      "Enter your choice (1-9):  2\n"
     ]
    },
    {
     "data": {
      "text/plain": [
       "2"
      ]
     },
     "execution_count": 20,
     "metadata": {},
     "output_type": "execute_result"
    }
   ],
   "source": [
    "get_user_choice()"
   ]
  },
  {
   "cell_type": "code",
   "execution_count": 21,
   "id": "e4c2ac2e-f7a3-46dd-9342-ba0924f2da82",
   "metadata": {},
   "outputs": [],
   "source": [
    "def get_quantity():\n",
    "    \"\"\"\n",
    "    Description: Takes user input to get the quantity of the selected product.\n",
    "                 Ensures the input is a positive integer.\n",
    "\n",
    "                 If the input is not an integer return the error \n",
    "                 'Invalid input. Please enter a valid number.' \n",
    "                 \n",
    "                 If the input is a negative integer or zero return the error\n",
    "                 'Quantity must be greater than 0.'\n",
    "    \"\"\"\n",
    "    while True:\n",
    "        try:\n",
    "            quantity = int(input(\"Enter quantity: \"))\n",
    "            if quantity > 0:\n",
    "                return quantity\n",
    "            else:\n",
    "                print(\"Quantity must be greater than 0.\")\n",
    "        except ValueError:\n",
    "            print(\"Invalid input. Please enter a valid number.\")"
   ]
  },
  {
   "cell_type": "code",
   "execution_count": 22,
   "id": "22f4c6b9-2e60-45fd-acd5-47df540a1da6",
   "metadata": {},
   "outputs": [],
   "source": [
    "def get_item_name(choice):\n",
    "    \"\"\"\n",
    "    Description: Retrieves and returns the name of a product \n",
    "    based on the user's choice number from the product list.\n",
    "    \"\"\"\n",
    "    item_names = {\n",
    "        1: \"Creed aventus for men\",\n",
    "        2: \"Now Rave perfume for ladies\",\n",
    "        3: \"Sauvage dior unisex perfume\",\n",
    "        4: \"Berries weekend female perfume\",\n",
    "        5: \"Nivea roll on\",\n",
    "        6: \"Victoria's secret Body mist\",\n",
    "        7: \"Storm kids Body spray\",\n",
    "        8: \"Riggs Body-Spray\"\n",
    "    }\n",
    "    return item_names.get(choice)"
   ]
  },
  {
   "cell_type": "code",
   "execution_count": 23,
   "id": "3f9d537b-1257-40e8-ac9f-83ad77e6e7a5",
   "metadata": {},
   "outputs": [],
   "source": [
    "def get_item_price(choice):\n",
    "    \"\"\"\n",
    "    Description: Retrieves and returns the price of a product item based on \n",
    "    the user's choice number from the product list.\n",
    "    \"\"\"\n",
    "    item_prices = {\n",
    "        1: 9000,\n",
    "        2: 20000,\n",
    "        3: 10000,\n",
    "        4: 7500,\n",
    "        5: 2500,\n",
    "        6: 5000,\n",
    "        7: 3500,\n",
    "        8: 4000\n",
    "    }\n",
    "    return item_prices.get(choice)"
   ]
  },
  {
   "cell_type": "code",
   "execution_count": 24,
   "id": "69e23b33-fde7-4512-b065-c07fc416ef81",
   "metadata": {},
   "outputs": [],
   "source": [
    "def calculate_total_price(item_price, quantity):\n",
    "    \"\"\"\n",
    "    Description: Calculates and returns the total price of a specific product \n",
    "    based on its price and the quantity ordered.\n",
    "    \"\"\"\n",
    "    return item_price * quantity"
   ]
  },
  {
   "cell_type": "code",
   "execution_count": 25,
   "id": "9139cae0-a0aa-43ff-af35-cbdb931fdaf1",
   "metadata": {},
   "outputs": [],
   "source": [
    "def place_order():\n",
    "    cart = {}\n",
    "    \n",
    "    while True:\n",
    "        display_item()\n",
    "        choice = get_user_choice()\n",
    "        if choice is None:\n",
    "            break\n",
    "\n",
    "        item_name = get_item_name(choice)\n",
    "        item_price = get_item_price(choice)\n",
    "        quantity = get_quantity()\n",
    "        total_price = calculate_total_price(item_price, quantity)\n",
    "\n",
    "        if item_name in cart:\n",
    "            cart[item_name]['quantity'] += quantity\n",
    "            cart[item_name]['total_price'] += total_price\n",
    "        else:\n",
    "            cart[item_name] = {\n",
    "                'quantity': quantity,\n",
    "                'total_price': total_price\n",
    "            }\n",
    "\n",
    "    return cart"
   ]
  },
  {
   "cell_type": "code",
   "execution_count": 26,
   "id": "aa759698-b63a-4767-b49d-e8cd5a0e1c65",
   "metadata": {},
   "outputs": [],
   "source": [
    "def check_out(cart):\n",
    "    \"\"\"\n",
    "    Description: Finalizes the order by displaying the contents of the shopping cart, including quantities and total prices.\n",
    "                 Prints the total order price like a receipt.\n",
    "\n",
    "                 The reciept would look like this if the cart is empty\n",
    "                 \n",
    "                     Your cart is empty. No items to check out.\n",
    "\n",
    "\n",
    "                 If the Cart is has items in it then the receipt should look exactly like this\n",
    "\n",
    "                     Checking out...\n",
    "                     Your order details:\n",
    "                     Item 1: Quantity - 2, Total Price - 2000\n",
    "                     Item 2: Quantity - 3, Total Price - 1500\n",
    "                     Total Order Price: 3500\n",
    "                     Thank you for ordering!\n",
    "    \"\"\"\n",
    "    if not cart:\n",
    "        print(\"Your cart is empty. No items to check out.\")\n",
    "        return\n",
    "\n",
    "    print(\"Checking out...\")\n",
    "    print(\"Your order details:\")\n",
    "    total_order_price = 0\n",
    "    item_num = 1\n",
    "\n",
    "    for item, details in cart.items():\n",
    "        print(f\"Item {item_num}: Quantity - {details['quantity']}, Total Price - {details['total_price']}\")\n",
    "        total_order_price += details['total_price']\n",
    "        item_num += 1\n",
    "\n",
    "    print(f\"Total Order Price: {total_order_price}\")\n",
    "    print(\"Thank you for Patronage!\")"
   ]
  },
  {
   "cell_type": "code",
   "execution_count": 27,
   "id": "7b24c8e6-b39e-491d-98ee-903f4fe0c338",
   "metadata": {},
   "outputs": [],
   "source": [
    "def ScentsbyLina_perfume_ordering_app():\n",
    "    \"\"\"\n",
    "    Description: The main function that initiates the perfume ordering application.\n",
    "                 Calls place_order() to build the shopping cart and then calls check_out() to complete the order.\n",
    "\n",
    "    \"\"\"\n",
    "    print(\"Welcome to ScentsbyLina_perfume_ordering_app!\")\n",
    "    cart = place_order()\n",
    "    check_out(cart)"
   ]
  },
  {
   "cell_type": "code",
   "execution_count": null,
   "id": "be6fc159-2b31-4e81-97d1-aa6a8d7f2fbe",
   "metadata": {},
   "outputs": [
    {
     "name": "stdout",
     "output_type": "stream",
     "text": [
      "Welcome to ScentsbyLina_perfume_ordering_app!\n",
      "Product_list\n",
      "1. Creed aventus for men - 9000\n",
      "2. Now Rave perfume for ladies - 20000\n",
      "3. Sauvage dior unisex perfume - 10000\n",
      "4. Berries weekend female perfume - 7500\n",
      "5. Nivea roll on - 2500\n",
      "6. Victoria's secret Body mist - 5000\n",
      "7. Storm kids Body spray - 3500\n",
      "8. Riggs Body-Spray - 4000\n",
      "9. Exit List\n"
     ]
    },
    {
     "name": "stdin",
     "output_type": "stream",
     "text": [
      "Enter your choice (1-9):  2\n",
      "Enter quantity:  2\n"
     ]
    },
    {
     "name": "stdout",
     "output_type": "stream",
     "text": [
      "Product_list\n",
      "1. Creed aventus for men - 9000\n",
      "2. Now Rave perfume for ladies - 20000\n",
      "3. Sauvage dior unisex perfume - 10000\n",
      "4. Berries weekend female perfume - 7500\n",
      "5. Nivea roll on - 2500\n",
      "6. Victoria's secret Body mist - 5000\n",
      "7. Storm kids Body spray - 3500\n",
      "8. Riggs Body-Spray - 4000\n",
      "9. Exit List\n"
     ]
    },
    {
     "name": "stdin",
     "output_type": "stream",
     "text": [
      "Enter your choice (1-9):  2\n",
      "Enter quantity:  1\n"
     ]
    },
    {
     "name": "stdout",
     "output_type": "stream",
     "text": [
      "Product_list\n",
      "1. Creed aventus for men - 9000\n",
      "2. Now Rave perfume for ladies - 20000\n",
      "3. Sauvage dior unisex perfume - 10000\n",
      "4. Berries weekend female perfume - 7500\n",
      "5. Nivea roll on - 2500\n",
      "6. Victoria's secret Body mist - 5000\n",
      "7. Storm kids Body spray - 3500\n",
      "8. Riggs Body-Spray - 4000\n",
      "9. Exit List\n"
     ]
    }
   ],
   "source": [
    "ScentsbyLina_perfume_ordering_app()"
   ]
  },
  {
   "cell_type": "code",
   "execution_count": null,
   "id": "be3826e4-2d41-4b6c-82f9-7994a4f53cf5",
   "metadata": {},
   "outputs": [],
   "source": []
  }
 ],
 "metadata": {
  "kernelspec": {
   "display_name": "anaconda-panel-2023.05-py310",
   "language": "python",
   "name": "conda-env-anaconda-panel-2023.05-py310-py"
  },
  "language_info": {
   "codemirror_mode": {
    "name": "ipython",
    "version": 3
   },
   "file_extension": ".py",
   "mimetype": "text/x-python",
   "name": "python",
   "nbconvert_exporter": "python",
   "pygments_lexer": "ipython3",
   "version": "3.11.5"
  }
 },
 "nbformat": 4,
 "nbformat_minor": 5
}
