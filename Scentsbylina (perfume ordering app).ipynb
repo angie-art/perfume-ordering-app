{
 "cells": [
  {
   "cell_type": "code",
   "execution_count": 1,
   "id": "12e42268-3224-40c3-bdf2-6360b743c34d",
   "metadata": {},
   "outputs": [],
   "source": [
    "import unittest\n",
    "from unittest.mock import patch"
   ]
  },
  {
   "cell_type": "code",
   "execution_count": 2,
   "id": "616756bb-1a64-49fd-9cb4-d72e8596f19e",
   "metadata": {},
   "outputs": [],
   "source": [
    "def display_item():\n",
    "    \"\"\"\n",
    "    Description:  This function when called is to display the product item and prices.\n",
    "    \"\"\"\n",
    "    print(\"Product_list\")\n",
    "    print(\"1. Creed aventus for men - 9000\") \n",
    "    print(\"2. Now Rave perfume for ladies - 20000\") \n",
    "    print(\"3. Sauvage dior unisex perfume - 10000\") \n",
    "    print(\"4. Berries weekend female perfume - 7500\") \n",
    "    print(\"5. Nivea roll on - 2500\")\n",
    "    print(\"6. Victoria's secret Body mist - 5000\") \n",
    "    print(\"7. Storm kids Body spray - 3500\")\n",
    "    print(\"8. Riggs Body-Spray - 4000\")\n",
    "    print(\"9. Exit List\")"
   ]
  },
  {
   "cell_type": "code",
   "execution_count": 4,
   "id": "0567faec-838e-4f35-affd-9e91abf74ac3",
   "metadata": {},
   "outputs": [
    {
     "name": "stdout",
     "output_type": "stream",
     "text": [
      "Product_list\n",
      "1. Creed aventus for men - 9000\n",
      "2. Now Rave perfume for ladies - 20000\n",
      "3. Sauvage dior unisex perfume - 10000\n",
      "4. Berries weekend female perfume - 7500\n",
      "5. Nivea roll on - 2500\n",
      "6. Victoria's secret Body mist - 5000\n",
      "7. Storm kids Body spray - 3500\n",
      "8. Riggs Body-Spray - 4000\n",
      "9. Exit List\n"
     ]
    }
   ],
   "source": [
    "display_item()"
   ]
  },
  {
   "cell_type": "code",
   "execution_count": 3,
   "id": "9fd34a38-f20e-4b93-86af-b9c0c8f65e51",
   "metadata": {},
   "outputs": [],
   "source": [
    "def get_user_choice():\n",
    "    \n",
    "    \"\"\"\n",
    "    Description: Takes user input to get the number corresponding to the chosen product from the List.\n",
    "                 Ensures the input is a valid choice between 1 and 9.\n",
    "                 \n",
    "                 If the input is not an integer return the error \n",
    "                 'Invalid input. Please enter a valid number.' \n",
    "                 \n",
    "                 If the input is an integer but not between 1 and 9 return the error\n",
    "                 'Invalid choice. Please enter a number between 1 and 9.'\n",
    "    \"\"\"\n",
    "    while True:\n",
    "        try:\n",
    "            choice = int(input(\"Enter your choice (1-9): \"))\n",
    "            if choice in [1, 2, 3, 4, 5, 6, 7, 8]:\n",
    "                return choice\n",
    "            elif choice == 9:\n",
    "                return None\n",
    "            else:\n",
    "                print(\"Invalid choice. Please enter a number between 1 and 9.\")\n",
    "        except ValueError:\n",
    "            print(\"Invalid input. Please enter a valid number.\")"
   ]
  },
  {
   "cell_type": "code",
   "execution_count": 6,
   "id": "e2ca6074-9349-41af-b643-e9d3d2a381ec",
   "metadata": {},
   "outputs": [
    {
     "name": "stdin",
     "output_type": "stream",
     "text": [
      "Enter your choice (1-9):  1\n"
     ]
    },
    {
     "data": {
      "text/plain": [
       "1"
      ]
     },
     "execution_count": 6,
     "metadata": {},
     "output_type": "execute_result"
    }
   ],
   "source": [
    "get_user_choice()"
   ]
  },
  {
   "cell_type": "code",
   "execution_count": 4,
   "id": "454d8bdc-31a1-466b-a806-a1c6b1a1badb",
   "metadata": {},
   "outputs": [
    {
     "name": "stdout",
     "output_type": "stream",
     "text": [
      "Invalid input. Please enter a valid number.\n",
      "Invalid choice. Please enter a number between 1 and 9.\n"
     ]
    }
   ],
   "source": [
    "class TestGetUserChoice(unittest.TestCase):\n",
    "    @patch('builtins.input', side_effect=['2'])\n",
    "    def test_valid_choice(self, mock_input):\n",
    "        result = get_user_choice()\n",
    "        self.assertEqual(result, 2)\n",
    "\n",
    "    @patch('builtins.input', side_effect=['invalid', '3'])\n",
    "    def test_invalid_then_valid_choice(self, mock_input):\n",
    "        result = get_user_choice()\n",
    "        self.assertEqual(result, 3)\n",
    "\n",
    "    @patch('builtins.input', side_effect=['10', '9'])\n",
    "    def test_invalid_then_exit_choice(self, mock_input):\n",
    "        result = get_user_choice()\n",
    "        self.assertIsNone(result)\n",
    "\n",
    "tester = TestGetUserChoice()\n",
    "tester.test_valid_choice()\n",
    "tester.test_invalid_then_valid_choice()\n",
    "tester.test_invalid_then_exit_choice()"
   ]
  },
  {
   "cell_type": "code",
   "execution_count": 5,
   "id": "8ad2b542-55d4-4d5a-a237-ea92d894d101",
   "metadata": {},
   "outputs": [],
   "source": [
    "def get_quantity():\n",
    "    \"\"\"\n",
    "    Description: Takes user input to get the quantity of the selected product.\n",
    "                 Ensures the input is a positive integer.\n",
    "\n",
    "                 If the input is not an integer return the error \n",
    "                 'Invalid input. Please enter a valid number.' \n",
    "                 \n",
    "                 If the input is a negative integer or zero return the error\n",
    "                 'Quantity must be greater than 0.'\n",
    "    \"\"\"\n",
    "   #YOUR CODE HERE\n",
    "    while True:\n",
    "        try:\n",
    "            quantity = int(input(\"Enter quantity: \"))\n",
    "            if quantity > 0:\n",
    "                return quantity\n",
    "            else:\n",
    "                print(\"Quantity must be greater than 0.\")\n",
    "        except ValueError:\n",
    "            print(\"Invalid input. Please enter a valid number.\")"
   ]
  },
  {
   "cell_type": "code",
   "execution_count": 6,
   "id": "78f3701e-02ce-409f-b62d-2f62507232a8",
   "metadata": {},
   "outputs": [
    {
     "name": "stdout",
     "output_type": "stream",
     "text": [
      "Invalid input. Please enter a valid number.\n",
      "Quantity must be greater than 0.\n",
      "Quantity must be greater than 0.\n"
     ]
    }
   ],
   "source": [
    "class TestGetQuantity(unittest.TestCase):\n",
    "    @patch('builtins.input', side_effect=['3'])\n",
    "    def test_valid_quantity(self, mock_input):\n",
    "        result = get_quantity()\n",
    "        self.assertEqual(result, 3)\n",
    "\n",
    "    @patch('builtins.input', side_effect=['invalid', '5'])\n",
    "    def test_invalid_then_valid_quantity(self, mock_input):\n",
    "        result = get_quantity()\n",
    "        self.assertEqual(result, 5)\n",
    "\n",
    "    @patch('builtins.input', side_effect=['0', '-2', '4'])\n",
    "    def test_non_positive_then_valid_quantity(self, mock_input):\n",
    "        result = get_quantity()\n",
    "        self.assertEqual(result, 4)\n",
    "\n",
    "tester = TestGetQuantity()\n",
    "tester.test_valid_quantity()\n",
    "tester.test_invalid_then_valid_quantity()\n",
    "tester.test_non_positive_then_valid_quantity() "
   ]
  },
  {
   "cell_type": "code",
   "execution_count": 7,
   "id": "4d21114c-a7b7-4092-b895-10e1f2e3d19a",
   "metadata": {},
   "outputs": [],
   "source": [
    "def get_item_name(choice):\n",
    "    \"\"\"\n",
    "    Description: Retrieves and returns the name of a product \n",
    "    based on the user's choice number from the product list.\n",
    "    \"\"\"\n",
    "    # YOUR CODE HERE\n",
    "    item_names = {\n",
    "        1: \"Creed aventus for men\",\n",
    "        2: \"Now Rave perfume for ladies\",\n",
    "        3: \"Sauvage dior unisex perfume\",\n",
    "        4: \"Berries weekend female perfume\",\n",
    "        5: \"Nivea roll on\",\n",
    "        6: \"Victoria's secret Body mist\",\n",
    "        7: \"Storm kids Body spray\",\n",
    "        8: \"Riggs Body-Spray\"\n",
    "    }\n",
    "    return item_names.get(choice)"
   ]
  },
  {
   "cell_type": "code",
   "execution_count": 12,
   "id": "39db6153-efd4-4312-9232-8907fae39e8b",
   "metadata": {},
   "outputs": [],
   "source": [
    "assert get_item_name(1) == \"Creed aventus for men\"\n",
    "assert get_item_name(2) == \"Now Rave perfume for ladies\"\n",
    "assert get_item_name(3) == \"Sauvage dior unisex perfume\"\n",
    "assert get_item_name(4) == \"Berries weekend female perfume\"\n",
    "assert get_item_name(5) == \"Nivea roll on\"\n",
    "assert get_item_name(6) == \"Victoria's secret Body mist\"\n",
    "assert get_item_name(7) == \"Storm kids Body spray\"\n",
    "assert get_item_name(8) == \"Riggs Body-Spray\""
   ]
  },
  {
   "cell_type": "code",
   "execution_count": 13,
   "id": "e19ea6c1-4f4f-4fc4-bdb0-889981033f8c",
   "metadata": {},
   "outputs": [],
   "source": [
    "def get_item_price(choice):\n",
    "    \"\"\"\n",
    "    Description: Retrieves and returns the price of a product item based on \n",
    "    the user's choice number from the product list.\n",
    "    \"\"\"\n",
    "    # YOUR CODE HERE\n",
    "    item_prices = {\n",
    "        1: 9000,\n",
    "        2: 20000,\n",
    "        3: 10000,\n",
    "        4: 7500,\n",
    "        5: 2500,\n",
    "        6: 5000,\n",
    "        7: 3500,\n",
    "        8: 4000\n",
    "    }\n",
    "    return item_prices.get(choice)"
   ]
  },
  {
   "cell_type": "code",
   "execution_count": 14,
   "id": "f759fae1-d6d9-4e6c-95af-f57dcb02e0db",
   "metadata": {},
   "outputs": [],
   "source": [
    "assert get_item_price(1) == 9000\n",
    "assert get_item_price(2) == 20000\n",
    "assert get_item_price(3) == 10000\n",
    "assert get_item_price(4) == 7500\n",
    "assert get_item_price(5) == 2500\n",
    "assert get_item_price(6) == 5000\n",
    "assert get_item_price(7) == 3500\n",
    "assert get_item_price(8) == 4000"
   ]
  },
  {
   "cell_type": "code",
   "execution_count": 15,
   "id": "d7c14c56-da14-406d-b95d-7b783859de93",
   "metadata": {},
   "outputs": [],
   "source": [
    "def calculate_total_price(item_price, quantity):\n",
    "    \"\"\"\n",
    "    Description: Calculates and returns the total price of a specific product \n",
    "    based on its price and the quantity ordered.\n",
    "    \"\"\"\n",
    "    return item_price * quantity"
   ]
  },
  {
   "cell_type": "code",
   "execution_count": 16,
   "id": "85a2a575-2d60-4886-81e0-070ab5297886",
   "metadata": {},
   "outputs": [],
   "source": [
    "assert calculate_total_price(5, 2) == 10"
   ]
  },
  {
   "cell_type": "code",
   "execution_count": 17,
   "id": "412c46ac-7292-497d-8c3e-2a6af8d6c695",
   "metadata": {},
   "outputs": [],
   "source": [
    "def place_order():\n",
    "    cart = {}\n",
    "    \n",
    "    while True:\n",
    "        display_item()\n",
    "        choice = get_user_choice()\n",
    "        if choice is None:\n",
    "            break\n",
    "\n",
    "        item_name = get_item_name(choice)\n",
    "        item_price = get_item_price(choice)\n",
    "        quantity = get_quantity()\n",
    "        total_price = calculate_total_price(item_price, quantity)\n",
    "\n",
    "        if item_name in cart:\n",
    "            cart[item_name]['quantity'] += quantity\n",
    "            cart[item_name]['total_price'] += total_price\n",
    "        else:\n",
    "            cart[item_name] = {\n",
    "                'quantity': quantity,\n",
    "                'total_price': total_price\n",
    "            }\n",
    "\n",
    "    return cart"
   ]
  },
  {
   "cell_type": "code",
   "execution_count": 18,
   "id": "825bda4f-14c1-4d69-99d3-72a2f1313e1d",
   "metadata": {},
   "outputs": [
    {
     "name": "stdout",
     "output_type": "stream",
     "text": [
      "Product_list\n",
      "1. Creed aventus for men - 9000\n",
      "2. Now Rave perfume for ladies - 20000\n",
      "3. Sauvage dior unisex perfume - 10000\n",
      "4. Berries weekend female perfume - 7500\n",
      "5. Nivea roll on - 2500\n",
      "6. Victoria's secret Body mist - 5000\n",
      "7. Storm kids Body spray - 3500\n",
      "8. Riggs Body-Spray - 4000\n",
      "9. Exit List\n",
      "Product_list\n",
      "1. Creed aventus for men - 9000\n",
      "2. Now Rave perfume for ladies - 20000\n",
      "3. Sauvage dior unisex perfume - 10000\n",
      "4. Berries weekend female perfume - 7500\n",
      "5. Nivea roll on - 2500\n",
      "6. Victoria's secret Body mist - 5000\n",
      "7. Storm kids Body spray - 3500\n",
      "8. Riggs Body-Spray - 4000\n",
      "9. Exit List\n",
      "Product_list\n",
      "1. Creed aventus for men - 9000\n",
      "2. Now Rave perfume for ladies - 20000\n",
      "3. Sauvage dior unisex perfume - 10000\n",
      "4. Berries weekend female perfume - 7500\n",
      "5. Nivea roll on - 2500\n",
      "6. Victoria's secret Body mist - 5000\n",
      "7. Storm kids Body spray - 3500\n",
      "8. Riggs Body-Spray - 4000\n",
      "9. Exit List\n"
     ]
    }
   ],
   "source": [
    "class TestPlaceOrder(unittest.TestCase):\n",
    "    @patch('__main__.get_user_choice', side_effect=[1, 2, None])\n",
    "    @patch('__main__.get_quantity', return_value=3)\n",
    "    def test_place_order(self, mock_get_quantity, mock_get_user_choice):\n",
    "        result = place_order()\n",
    "        expected_result = {\n",
    "            'Creed aventus for men': {'quantity': 3, 'total_price': 27000},\n",
    "            'Now Rave perfume for ladies': {'quantity': 3, 'total_price': 60000}\n",
    "        }\n",
    "        self.assertEqual(result, expected_result)\n",
    "        self.assertEqual(mock_get_user_choice.call_count, 3)\n",
    "        self.assertEqual(mock_get_quantity.call_count, 2)\n",
    "\n",
    "tester = TestPlaceOrder()\n",
    "tester.test_place_order()"
   ]
  },
  {
   "cell_type": "code",
   "execution_count": 19,
   "id": "5431aaf0-2c04-4546-a5b8-af2c29b4e23f",
   "metadata": {},
   "outputs": [],
   "source": [
    "def check_out(cart):\n",
    "    \"\"\"\n",
    "    Description: Finalizes the order by displaying the contents of the shopping cart, including quantities and total prices.\n",
    "                 Prints the total order price like a receipt.\n",
    "\n",
    "                 The reciept would look like this if the cart is empty\n",
    "                 \n",
    "                     Your cart is empty. No items to check out.\n",
    "\n",
    "\n",
    "                 If the Cart is has items in it then the receipt should look exactly like this\n",
    "\n",
    "                     Checking out...\n",
    "                     Your order details:\n",
    "                     Item 1: Quantity - 2, Total Price - 2000\n",
    "                     Item 2: Quantity - 3, Total Price - 1500\n",
    "                     Total Order Price: 3500\n",
    "                     Thank you for ordering!\n",
    "    \"\"\"\n",
    "    # YOUR CODE HERE\n",
    "    if not cart:\n",
    "        print(\"Your cart is empty. No items to check out.\")\n",
    "        return\n",
    "\n",
    "    print(\"Checking out...\")\n",
    "    print(\"Your order details:\")\n",
    "    total_order_price = 0\n",
    "    item_num = 1\n",
    "\n",
    "    for item, details in cart.items():\n",
    "        print(f\"Item {item_num}: Quantity - {details['quantity']}, Total Price - {details['total_price']}\")\n",
    "        total_order_price += details['total_price']\n",
    "        item_num += 1\n",
    "\n",
    "    print(f\"Total Order Price: {total_order_price}\")\n",
    "    print(\"Thank you for Patronage!\")"
   ]
  },
  {
   "cell_type": "code",
   "execution_count": 20,
   "id": "c03ce170-b619-4d11-b48c-ce08d637d237",
   "metadata": {},
   "outputs": [],
   "source": [
    "class TestCheckOut(unittest.TestCase):\n",
    "    @patch('builtins.print')\n",
    "    def test_check_out_empty_cart(self, mock_print):\n",
    "        cart = {}\n",
    "        check_out(cart)\n",
    "        mock_print.assert_called_with(\"Your cart is empty. No items to check out.\")\n",
    "\n",
    "    @patch('builtins.print')\n",
    "    def test_check_out_non_empty_cart(self, mock_print):\n",
    "        cart = {\n",
    "            'Item 1': {'quantity': 2, 'total_price': 20},\n",
    "            'Item 2': {'quantity': 3, 'total_price': 15}\n",
    "        }\n",
    "        check_out(cart)\n",
    "\n",
    "        expected_output_1 = [\n",
    "            \"Checking out...\",\n",
    "            \"Your order details:\",\n",
    "            \"Item 1: Quantity - 2, Total Price - $20\",\n",
    "            \"Item 2: Quantity - 3, Total Price - $15\",\n",
    "            \"Total Order Price: $35\",\n",
    "            \"Thank you for ordering!\"\n",
    "        ]\n",
    "\n",
    "        expected_output_2 = [\n",
    "            \"Checking out...\",\n",
    "            \"Your order details:\",\n",
    "            \"Item 1: Quantity - 2, Total Price - 20\",\n",
    "            \"Item 2: Quantity - 3, Total Price - 15\",\n",
    "            \"Total Order Price: 35\",\n",
    "            \"Thank you for Patronage!\"\n",
    "        ]\n",
    "\n",
    "        calls_1 = [unittest.mock.call(output) for output in expected_output_1]\n",
    "        calls_2 = [unittest.mock.call(output) for output in expected_output_2]\n",
    "\n",
    "        try:\n",
    "            mock_print.assert_has_calls(calls_1, any_order=False)\n",
    "        except AssertionError:\n",
    "            mock_print.assert_has_calls(calls_2, any_order=False)\n",
    "\n",
    "tester = TestCheckOut()\n",
    "tester.test_check_out_empty_cart()\n",
    "tester.test_check_out_non_empty_cart()"
   ]
  },
  {
   "cell_type": "code",
   "execution_count": 22,
   "id": "3637a2f3-2f08-4b24-8ae1-26bc1e0fec1e",
   "metadata": {},
   "outputs": [],
   "source": [
    "def ScentsbyLina_perfume_ordering_app():\n",
    "    \"\"\"\n",
    "    Description: The main function that initiates the perfume ordering application.\n",
    "                 Calls place_order() to build the shopping cart and then calls check_out() to complete the order.\n",
    "\n",
    "                 NOTE THAT IF ANY OF THE OTHER FUNCTIONS ARE NOT CORRECTLY WRITTEN THIS WILL FAIL\n",
    "                 PLEASE DO NOT MODIFY THIS CELL\n",
    "    \"\"\"\n",
    "    #YOUR CODE HERE\n",
    "    print(\"Welcome to ScentsbyLina_perfume_ordering_app!\")\n",
    "    cart = place_order()\n",
    "    check_out(cart)"
   ]
  },
  {
   "cell_type": "code",
   "execution_count": 23,
   "id": "06c10f52-68fe-4e0e-83be-13b7132643af",
   "metadata": {},
   "outputs": [],
   "source": [
    "class TestScentsbyLinaPerfumeOrderingApp(unittest.TestCase):\n",
    "    @patch('builtins.print')\n",
    "    @patch('__main__.place_order', return_value={'Item 1': {'quantity': 2, 'total_price': 20}})\n",
    "    @patch('__main__.check_out')\n",
    "    def test_ScentsbyLina_perfume_ordering_app(self, mock_check_out, mock_place_order, mock_print):\n",
    "        ScentsbyLina_perfume_ordering_app()\n",
    "        mock_print.assert_called_with(\"Welcome to ScentsbyLina_perfume_ordering_app!\")\n",
    "        mock_place_order.assert_called_once()\n",
    "        mock_check_out.assert_called_once()\n",
    "\n",
    "tester = TestScentsbyLinaPerfumeOrderingApp()\n",
    "tester.test_ScentsbyLina_perfume_ordering_app()"
   ]
  },
  {
   "cell_type": "code",
   "execution_count": 24,
   "id": "d69f3883-5263-4a4b-adc2-69a8348cb006",
   "metadata": {},
   "outputs": [
    {
     "name": "stdout",
     "output_type": "stream",
     "text": [
      "Welcome to ScentsbyLina_perfume_ordering_app!\n",
      "Product_list\n",
      "1. Creed aventus for men - 9000\n",
      "2. Now Rave perfume for ladies - 20000\n",
      "3. Sauvage dior unisex perfume - 10000\n",
      "4. Berries weekend female perfume - 7500\n",
      "5. Nivea roll on - 2500\n",
      "6. Victoria's secret Body mist - 5000\n",
      "7. Storm kids Body spray - 3500\n",
      "8. Riggs Body-Spray - 4000\n",
      "9. Exit List\n"
     ]
    },
    {
     "name": "stdin",
     "output_type": "stream",
     "text": [
      "Enter your choice (1-9):  2\n",
      "Enter quantity:  3\n"
     ]
    },
    {
     "name": "stdout",
     "output_type": "stream",
     "text": [
      "Product_list\n",
      "1. Creed aventus for men - 9000\n",
      "2. Now Rave perfume for ladies - 20000\n",
      "3. Sauvage dior unisex perfume - 10000\n",
      "4. Berries weekend female perfume - 7500\n",
      "5. Nivea roll on - 2500\n",
      "6. Victoria's secret Body mist - 5000\n",
      "7. Storm kids Body spray - 3500\n",
      "8. Riggs Body-Spray - 4000\n",
      "9. Exit List\n"
     ]
    },
    {
     "name": "stdin",
     "output_type": "stream",
     "text": [
      "Enter your choice (1-9):  3\n",
      "Enter quantity:  2\n"
     ]
    },
    {
     "name": "stdout",
     "output_type": "stream",
     "text": [
      "Product_list\n",
      "1. Creed aventus for men - 9000\n",
      "2. Now Rave perfume for ladies - 20000\n",
      "3. Sauvage dior unisex perfume - 10000\n",
      "4. Berries weekend female perfume - 7500\n",
      "5. Nivea roll on - 2500\n",
      "6. Victoria's secret Body mist - 5000\n",
      "7. Storm kids Body spray - 3500\n",
      "8. Riggs Body-Spray - 4000\n",
      "9. Exit List\n"
     ]
    },
    {
     "name": "stdin",
     "output_type": "stream",
     "text": [
      "Enter your choice (1-9):  9\n"
     ]
    },
    {
     "name": "stdout",
     "output_type": "stream",
     "text": [
      "Checking out...\n",
      "Your order details:\n",
      "Item 1: Quantity - 3, Total Price - 60000\n",
      "Item 2: Quantity - 2, Total Price - 20000\n",
      "Total Order Price: 80000\n",
      "Thank you for Patronage!\n"
     ]
    }
   ],
   "source": [
    "ScentsbyLina_perfume_ordering_app()"
   ]
  },
  {
   "cell_type": "code",
   "execution_count": 1,
   "id": "84548928-8627-4117-b66a-6d8824cfc26e",
   "metadata": {},
   "outputs": [
    {
     "ename": "NameError",
     "evalue": "name 'ScentsbyLina_perfume_ordering_app' is not defined",
     "output_type": "error",
     "traceback": [
      "\u001b[0;31m---------------------------------------------------------------------------\u001b[0m",
      "\u001b[0;31mNameError\u001b[0m                                 Traceback (most recent call last)",
      "Cell \u001b[0;32mIn[1], line 1\u001b[0m\n\u001b[0;32m----> 1\u001b[0m \u001b[43mScentsbyLina_perfume_ordering_app\u001b[49m()\n",
      "\u001b[0;31mNameError\u001b[0m: name 'ScentsbyLina_perfume_ordering_app' is not defined"
     ]
    }
   ],
   "source": []
  },
  {
   "cell_type": "code",
   "execution_count": null,
   "id": "71352dd2-83cd-4937-8f03-1b6bd97abed6",
   "metadata": {},
   "outputs": [],
   "source": []
  }
 ],
 "metadata": {
  "kernelspec": {
   "display_name": "anaconda-2024.02-py310",
   "language": "python",
   "name": "conda-env-anaconda-2024.02-py310-py"
  },
  "language_info": {
   "codemirror_mode": {
    "name": "ipython",
    "version": 3
   },
   "file_extension": ".py",
   "mimetype": "text/x-python",
   "name": "python",
   "nbconvert_exporter": "python",
   "pygments_lexer": "ipython3",
   "version": "3.10.14"
  }
 },
 "nbformat": 4,
 "nbformat_minor": 5
}
